{
 "cells": [
  {
   "cell_type": "code",
   "execution_count": 6,
   "id": "56bd6188",
   "metadata": {},
   "outputs": [],
   "source": [
    "import os\n",
    "import json\n",
    "import numpy as np\n",
    "import pandas as pd\n",
    "import librosa\n",
    "import tensorflow as tf\n",
    "from tensorflow import keras\n",
    "from sklearn.preprocessing import LabelEncoder\n",
    "from sklearn.model_selection import train_test_split\n",
    "from tqdm import tqdm\n",
    "import matplotlib.pyplot as plt\n",
    "from IPython.display import Audio, display\n",
    "from tensorflow.keras import layers\n",
    "import random\n",
    "\n",
    "# Suppress warnings\n",
    "import warnings\n",
    "warnings.filterwarnings('ignore')"
   ]
  },
  {
   "cell_type": "code",
   "execution_count": 7,
   "id": "f876cd6d",
   "metadata": {},
   "outputs": [],
   "source": [
    "def predict_audio(audio_file):\n",
    "    with open('prediction.json', 'r') as f:\n",
    "        prediction_dict = json.load(f)\n",
    "\n",
    "    # Extract MFCC features from the audio\n",
    "    mfcc_features = audio_to_mfcc(audio_file)\n",
    "\n",
    "    # Reshape MFCC features for prediction\n",
    "    mfcc_features = np.expand_dims(mfcc_features, axis=0)\n",
    "    mfcc_features = np.expand_dims(mfcc_features, axis=-1)\n",
    "\n",
    "    # Convert to TensorFlow tensor\n",
    "    mfcc_tensor = tf.convert_to_tensor(mfcc_features, dtype=tf.float32)\n",
    "\n",
    "    # Load the trained model and make a prediction\n",
    "    model = tf.keras.models.load_model('bird_song_classifier_1.h5')\n",
    "    prediction = model.predict(mfcc_tensor)\n",
    "    predicted_class = np.argmax(prediction)\n",
    "    predicted_label = prediction_dict[str(predicted_class)]\n",
    "    confidence = np.max(prediction) * 100\n",
    "\n",
    "    print(f\"Predicted Class: {predicted_label}\")\n",
    "    print(f\"Confidence: {confidence:.2f}%\")"
   ]
  },
  {
   "cell_type": "code",
   "execution_count": 12,
   "id": "ed1600e4",
   "metadata": {},
   "outputs": [
    {
     "name": "stderr",
     "output_type": "stream",
     "text": [
      "WARNING:absl:Compiled the loaded model, but the compiled metrics have yet to be built. `model.compile_metrics` will be empty until you train or evaluate the model.\n"
     ]
    },
    {
     "name": "stdout",
     "output_type": "stream",
     "text": [
      "\u001b[1m1/1\u001b[0m \u001b[32m━━━━━━━━━━━━━━━━━━━━\u001b[0m\u001b[37m\u001b[0m \u001b[1m0s\u001b[0m 326ms/step\n",
      "Predicted Class: Dusky-legged Guan_sound\n",
      "Confidence: 98.75%\n"
     ]
    }
   ],
   "source": [
    "predict_audio(r\"C:\\Users\\Kanishk\\Downloads\\archive (3)\\Voice of Birds\\Voice of Birds\\Dusky-legged Guan_sound\\Dusky-legged Guan4.mp3\")"
   ]
  },
  {
   "cell_type": "code",
   "execution_count": null,
   "id": "1dcd9bd3",
   "metadata": {},
   "outputs": [],
   "source": []
  },
  {
   "cell_type": "code",
   "execution_count": null,
   "id": "17198baf",
   "metadata": {},
   "outputs": [],
   "source": []
  }
 ],
 "metadata": {
  "kernelspec": {
   "display_name": "Python 3 (ipykernel)",
   "language": "python",
   "name": "python3"
  },
  "language_info": {
   "codemirror_mode": {
    "name": "ipython",
    "version": 3
   },
   "file_extension": ".py",
   "mimetype": "text/x-python",
   "name": "python",
   "nbconvert_exporter": "python",
   "pygments_lexer": "ipython3",
   "version": "3.11.5"
  }
 },
 "nbformat": 4,
 "nbformat_minor": 5
}
